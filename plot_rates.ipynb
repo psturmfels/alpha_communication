{
 "cells": [
  {
   "cell_type": "code",
   "execution_count": 1,
   "metadata": {},
   "outputs": [],
   "source": [
    "import altair as alt\n",
    "import numpy as np\n",
    "import pandas as pd"
   ]
  },
  {
   "cell_type": "code",
   "execution_count": 22,
   "metadata": {},
   "outputs": [],
   "source": [
    "data = pd.read_csv('error_rates.csv')"
   ]
  },
  {
   "cell_type": "code",
   "execution_count": 23,
   "metadata": {},
   "outputs": [],
   "source": [
    "data.loc[data['delta_alpha'] == 0.1, 'delta_alpha'] = 'Visible'\n",
    "data.loc[data['delta_alpha'] == 0.01, 'delta_alpha'] = 'Invisible'"
   ]
  },
  {
   "cell_type": "code",
   "execution_count": 24,
   "metadata": {},
   "outputs": [
    {
     "data": {
      "text/html": [
       "\n",
       "<div id=\"altair-viz-7573f6e956184183928dae8df73108b7\"></div>\n",
       "<script type=\"text/javascript\">\n",
       "  (function(spec, embedOpt){\n",
       "    const outputDiv = document.getElementById(\"altair-viz-7573f6e956184183928dae8df73108b7\");\n",
       "    const paths = {\n",
       "      \"vega\": \"https://cdn.jsdelivr.net/npm//vega@5?noext\",\n",
       "      \"vega-lib\": \"https://cdn.jsdelivr.net/npm//vega-lib?noext\",\n",
       "      \"vega-lite\": \"https://cdn.jsdelivr.net/npm//vega-lite@4.0.2?noext\",\n",
       "      \"vega-embed\": \"https://cdn.jsdelivr.net/npm//vega-embed@6?noext\",\n",
       "    };\n",
       "\n",
       "    function loadScript(lib) {\n",
       "      return new Promise(function(resolve, reject) {\n",
       "        var s = document.createElement('script');\n",
       "        s.src = paths[lib];\n",
       "        s.async = true;\n",
       "        s.onload = () => resolve(paths[lib]);\n",
       "        s.onerror = () => reject(`Error loading script: ${paths[lib]}`);\n",
       "        document.getElementsByTagName(\"head\")[0].appendChild(s);\n",
       "      });\n",
       "    }\n",
       "\n",
       "    function showError(err) {\n",
       "      outputDiv.innerHTML = `<div class=\"error\" style=\"color:red;\">${err}</div>`;\n",
       "      throw err;\n",
       "    }\n",
       "\n",
       "    function displayChart(vegaEmbed) {\n",
       "      vegaEmbed(outputDiv, spec, embedOpt)\n",
       "        .catch(err => showError(`Javascript Error: ${err.message}<br>This usually means there's a typo in your chart specification. See the javascript console for the full traceback.`));\n",
       "    }\n",
       "\n",
       "    if(typeof define === \"function\" && define.amd) {\n",
       "      requirejs.config({paths});\n",
       "      require([\"vega-embed\"], displayChart, err => showError(`Error loading script: ${err.message}`));\n",
       "    } else if (typeof vegaEmbed === \"function\") {\n",
       "      displayChart(vegaEmbed);\n",
       "    } else {\n",
       "      loadScript(\"vega\")\n",
       "        .then(() => loadScript(\"vega-lite\"))\n",
       "        .then(() => loadScript(\"vega-embed\"))\n",
       "        .catch(showError)\n",
       "        .then(() => displayChart(vegaEmbed));\n",
       "    }\n",
       "  })({\"config\": {\"view\": {\"continuousWidth\": 400, \"continuousHeight\": 300}, \"title\": {\"fontSize\": 16}}, \"data\": {\"name\": \"data-263a854b7d1d4d4901bffd7716d0fe83\"}, \"mark\": \"line\", \"encoding\": {\"color\": {\"type\": \"nominal\", \"field\": \"delta_alpha\"}, \"x\": {\"type\": \"quantitative\", \"axis\": {\"title\": \"Distance (cm)\"}, \"field\": \"distance\"}, \"y\": {\"type\": \"quantitative\", \"axis\": {\"title\": \"Bit Error Rate\"}, \"field\": \"bit_error_rate\"}}, \"title\": \"Error rate as a function of distance\", \"$schema\": \"https://vega.github.io/schema/vega-lite/v4.0.2.json\", \"datasets\": {\"data-263a854b7d1d4d4901bffd7716d0fe83\": [{\"delta_alpha\": \"Visible\", \"distance\": 20.0, \"bit_error_rate\": 0.0, \"data_rate\": 5.0}, {\"delta_alpha\": \"Visible\", \"distance\": 40.0, \"bit_error_rate\": 0.0, \"data_rate\": 5.0}, {\"delta_alpha\": \"Visible\", \"distance\": 80.0, \"bit_error_rate\": 0.0, \"data_rate\": 5.0}, {\"delta_alpha\": \"Visible\", \"distance\": 140.0, \"bit_error_rate\": 0.0, \"data_rate\": 5.0}, {\"delta_alpha\": \"Invisible\", \"distance\": 20.0, \"bit_error_rate\": 0.0208, \"data_rate\": 4.8958}, {\"delta_alpha\": \"Invisible\", \"distance\": 40.0, \"bit_error_rate\": 0.0, \"data_rate\": 5.0}, {\"delta_alpha\": \"Invisible\", \"distance\": 80.0, \"bit_error_rate\": 0.22916, \"data_rate\": 3.8539999999999996}, {\"delta_alpha\": \"Invisible\", \"distance\": 140.0, \"bit_error_rate\": 0.45833, \"data_rate\": 2.7083}]}}, {\"mode\": \"vega-lite\"});\n",
       "</script>"
      ],
      "text/plain": [
       "alt.Chart(...)"
      ]
     },
     "execution_count": 24,
     "metadata": {},
     "output_type": "execute_result"
    }
   ],
   "source": [
    "alt.Chart(data).mark_line().encode(\n",
    "    alt.X('distance:Q', axis=alt.Axis(title='Distance (cm)')),\n",
    "    alt.Y('bit_error_rate:Q', axis=alt.Axis(title='Bit Error Rate')),\n",
    "    alt.Color('delta_alpha:N')\n",
    ").properties(title='Error rate as a function of distance').configure_title(\n",
    "    fontSize=16\n",
    ")"
   ]
  },
  {
   "cell_type": "code",
   "execution_count": 25,
   "metadata": {},
   "outputs": [
    {
     "data": {
      "text/html": [
       "\n",
       "<div id=\"altair-viz-358d25f95b434fc6a45691eacb33d602\"></div>\n",
       "<script type=\"text/javascript\">\n",
       "  (function(spec, embedOpt){\n",
       "    const outputDiv = document.getElementById(\"altair-viz-358d25f95b434fc6a45691eacb33d602\");\n",
       "    const paths = {\n",
       "      \"vega\": \"https://cdn.jsdelivr.net/npm//vega@5?noext\",\n",
       "      \"vega-lib\": \"https://cdn.jsdelivr.net/npm//vega-lib?noext\",\n",
       "      \"vega-lite\": \"https://cdn.jsdelivr.net/npm//vega-lite@4.0.2?noext\",\n",
       "      \"vega-embed\": \"https://cdn.jsdelivr.net/npm//vega-embed@6?noext\",\n",
       "    };\n",
       "\n",
       "    function loadScript(lib) {\n",
       "      return new Promise(function(resolve, reject) {\n",
       "        var s = document.createElement('script');\n",
       "        s.src = paths[lib];\n",
       "        s.async = true;\n",
       "        s.onload = () => resolve(paths[lib]);\n",
       "        s.onerror = () => reject(`Error loading script: ${paths[lib]}`);\n",
       "        document.getElementsByTagName(\"head\")[0].appendChild(s);\n",
       "      });\n",
       "    }\n",
       "\n",
       "    function showError(err) {\n",
       "      outputDiv.innerHTML = `<div class=\"error\" style=\"color:red;\">${err}</div>`;\n",
       "      throw err;\n",
       "    }\n",
       "\n",
       "    function displayChart(vegaEmbed) {\n",
       "      vegaEmbed(outputDiv, spec, embedOpt)\n",
       "        .catch(err => showError(`Javascript Error: ${err.message}<br>This usually means there's a typo in your chart specification. See the javascript console for the full traceback.`));\n",
       "    }\n",
       "\n",
       "    if(typeof define === \"function\" && define.amd) {\n",
       "      requirejs.config({paths});\n",
       "      require([\"vega-embed\"], displayChart, err => showError(`Error loading script: ${err.message}`));\n",
       "    } else if (typeof vegaEmbed === \"function\") {\n",
       "      displayChart(vegaEmbed);\n",
       "    } else {\n",
       "      loadScript(\"vega\")\n",
       "        .then(() => loadScript(\"vega-lite\"))\n",
       "        .then(() => loadScript(\"vega-embed\"))\n",
       "        .catch(showError)\n",
       "        .then(() => displayChart(vegaEmbed));\n",
       "    }\n",
       "  })({\"config\": {\"view\": {\"continuousWidth\": 400, \"continuousHeight\": 300}, \"title\": {\"fontSize\": 16}}, \"data\": {\"name\": \"data-263a854b7d1d4d4901bffd7716d0fe83\"}, \"mark\": \"line\", \"encoding\": {\"color\": {\"type\": \"nominal\", \"field\": \"delta_alpha\"}, \"x\": {\"type\": \"quantitative\", \"axis\": {\"title\": \"Distance (cm)\"}, \"field\": \"distance\"}, \"y\": {\"type\": \"quantitative\", \"axis\": {\"title\": \"Data Rate (correct bits per second)\"}, \"field\": \"data_rate\"}}, \"title\": \"Data rate as a function of distance\", \"$schema\": \"https://vega.github.io/schema/vega-lite/v4.0.2.json\", \"datasets\": {\"data-263a854b7d1d4d4901bffd7716d0fe83\": [{\"delta_alpha\": \"Visible\", \"distance\": 20.0, \"bit_error_rate\": 0.0, \"data_rate\": 5.0}, {\"delta_alpha\": \"Visible\", \"distance\": 40.0, \"bit_error_rate\": 0.0, \"data_rate\": 5.0}, {\"delta_alpha\": \"Visible\", \"distance\": 80.0, \"bit_error_rate\": 0.0, \"data_rate\": 5.0}, {\"delta_alpha\": \"Visible\", \"distance\": 140.0, \"bit_error_rate\": 0.0, \"data_rate\": 5.0}, {\"delta_alpha\": \"Invisible\", \"distance\": 20.0, \"bit_error_rate\": 0.0208, \"data_rate\": 4.8958}, {\"delta_alpha\": \"Invisible\", \"distance\": 40.0, \"bit_error_rate\": 0.0, \"data_rate\": 5.0}, {\"delta_alpha\": \"Invisible\", \"distance\": 80.0, \"bit_error_rate\": 0.22916, \"data_rate\": 3.8539999999999996}, {\"delta_alpha\": \"Invisible\", \"distance\": 140.0, \"bit_error_rate\": 0.45833, \"data_rate\": 2.7083}]}}, {\"mode\": \"vega-lite\"});\n",
       "</script>"
      ],
      "text/plain": [
       "alt.Chart(...)"
      ]
     },
     "execution_count": 25,
     "metadata": {},
     "output_type": "execute_result"
    }
   ],
   "source": [
    "alt.Chart(data).mark_line().encode(\n",
    "    alt.X('distance:Q', axis=alt.Axis(title='Distance (cm)')),\n",
    "    alt.Y('data_rate:Q', axis=alt.Axis(title='Data Rate (correct bits per second)')),\n",
    "    alt.Color('delta_alpha:N')\n",
    ").properties(title='Data rate as a function of distance').configure_title(\n",
    "    fontSize=16\n",
    ")"
   ]
  }
 ],
 "metadata": {
  "kernelspec": {
   "display_name": "Python 3",
   "language": "python",
   "name": "python3"
  },
  "language_info": {
   "codemirror_mode": {
    "name": "ipython",
    "version": 3
   },
   "file_extension": ".py",
   "mimetype": "text/x-python",
   "name": "python",
   "nbconvert_exporter": "python",
   "pygments_lexer": "ipython3",
   "version": "3.7.4"
  }
 },
 "nbformat": 4,
 "nbformat_minor": 4
}
